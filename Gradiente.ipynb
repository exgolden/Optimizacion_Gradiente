{
 "cells": [
  {
   "cell_type": "code",
   "execution_count": 1,
   "metadata": {},
   "outputs": [],
   "source": [
    "import matplotlib.pyplot as plt\n",
    "%matplotlib inline\n",
    "from mpl_toolkits import mplot3d\n",
    "import numpy as np"
   ]
  },
  {
   "attachments": {},
   "cell_type": "markdown",
   "metadata": {},
   "source": [
    "# Idea general\n",
    "\n",
    "Esta se basa en encontrar el maximo/minimo local de una funcion por medio del gradiente -el cual nos indica la \"pendiente\" en cada eje sobre un punto dado. Si bien la idea es sencilla, llevarlo a la realidad es un poco mas complejo y no hay una receta unica para lograrlo. En este ensayo trataremos de abordar este problema de manera intuitiva\n",
    "\n",
    "## Una variable\n",
    "Empecemos abordando un caso sencillo, una funcion de una variable $f(x) = sin(x)$ -cabe aclarar que no tiene sentido tratar de maximizar/minimizar un funcion que no este acotada sobre el dominio de nuestro interes-, Empecemos restringiendo esta, al dominio $[0, 2 \\pi]$ y eligamos un punto arbitrario, por ejemplo $x_{0}=\\frac{7}{2}$\n",
    "<center><img src=\"Imagenes/sin_plot.jpg\"></center>\n"
   ]
  },
  {
   "attachments": {},
   "cell_type": "markdown",
   "metadata": {},
   "source": [
    "# Apendice\n"
   ]
  },
  {
   "attachments": {},
   "cell_type": "markdown",
   "metadata": {},
   "source": [
    "### Funcion $sin(x)$"
   ]
  },
  {
   "cell_type": "code",
   "execution_count": 62,
   "metadata": {},
   "outputs": [
    {
     "data": {
      "text/plain": [
       "''"
      ]
     },
     "execution_count": 62,
     "metadata": {},
     "output_type": "execute_result"
    },
    {
     "data": {
      "image/png": "[encoded data removed]",
      "text/plain": [
       "<Figure size 432x288 with 1 Axes>"
      ]
     },
     "metadata": {
      "needs_background": "light"
     },
     "output_type": "display_data"
    }
   ],
   "source": [
    "plt.title(\"Sin(x)\")\n",
    "plt.gca().spines[\"top\"].set_visible(False)\n",
    "plt.gca().spines[\"right\"].set_visible(False)\n",
    "x_ticks = [0, np.pi/2, np.pi, 3*np.pi/2, 2*np.pi]\n",
    "x_labels = ['0', 'π/2', 'π', '3π/2', '2π']\n",
    "plt.xticks(x_ticks, x_labels)\n",
    "y_ticks = [0, 1, 0, -1, 0]\n",
    "y_labels = [\"0\", \"1\", \"0\", \"-1\", \"0\"]\n",
    "plt.yticks(y_ticks, y_labels)\n",
    "sin_X_data = np.arange(0, 2*np.pi, 0.1)\n",
    "sin_Y_data = np.sin(sin_X_data)\n",
    "plt.plot(sin_X_data, sin_Y_data, c=\"green\")\n",
    "plt.scatter(3.5, np.sin(3.5), c=\"red\", s=40, alpha=1)\n",
    "plt.savefig(\"imagenes/sin_plot.jpg\", bbox_inches = \"tight\")\n",
    ";\n"
   ]
  },
  {
   "attachments": {},
   "cell_type": "markdown",
   "metadata": {},
   "source": [
    "\n",
    "\n",
    "Generamos una superficie en 3D. Para este ejemplo usamos $f(x, y) = Cos(x)Sin(y)$ y analizamos el dominio $[0, 10] \\times [0, 10]$ Generamos un punto aleatorio $(x_{0}, y_{0})$ en la superficie y buscamos el maximo local mas cercano a este por medio del gradiente $\\nabla f(x, y) = (\\frac {\\partial f}{\\partial x}, \\frac {\\partial f}{\\partial y})$ el nos dara la direccion de mayor pendiente dado el punto $(x_{0}, y_{0})$.\n",
    "\n",
    "\n",
    "Ya con la direccion del maximo local mas cercano a nuestro punto, parametrizamos un vector, para movernos hacia este:\n",
    "$$\n",
    "u(t) = \\left(x_{0}, y_{0} \\right) + t \\left( \\frac {\\partial f}{\\partial x_{0}}, \\frac {\\partial f}{\\partial y_{0}} \\right)\n",
    "$$"
   ]
  },
  {
   "cell_type": "code",
   "execution_count": null,
   "metadata": {},
   "outputs": [],
   "source": [
    "x_data = np.arange(0, 5, 0.1)\n",
    "y_data = np.arange(0, 5, 0.1)\n",
    "X, Y = np.meshgrid(x_data, y_data)\n",
    "Z = np.sin(X)*np.cos(Y)\n",
    "fig = plt.figure(figsize=(15, 15))\n",
    "axis = plt.axes(projection=\"3d\")\n",
    "axis.scatter(3,3, np.sin(3)*np.cos(3), c=\"red\", s=40)\n",
    "axis.plot_surface(X, Y, Z, alpha=0.3, cmap=\"plasma\")\n",
    "axis.xaxis.pane.fill = False\n",
    "axis.yaxis.pane.fill = False\n",
    "axis.zaxis.pane.fill = False\n",
    "\n",
    "# Now set color to white (or whatever is \"invisible\")\n",
    "axis.xaxis.pane.set_edgecolor('w')\n",
    "axis.yaxis.pane.set_edgecolor('w')\n",
    "axis.zaxis.pane.set_edgecolor('w')\n",
    "\n",
    "# Bonus: To get rid of the grid as well:\n",
    "axis.grid(False)\n",
    "\n",
    "plt.show()"
   ]
  }
 ],
 "metadata": {
  "kernelspec": {
   "display_name": "base",
   "language": "python",
   "name": "python3"
  },
  "language_info": {
   "codemirror_mode": {
    "name": "ipython",
    "version": 3
   },
   "file_extension": ".py",
   "mimetype": "text/x-python",
   "name": "python",
   "nbconvert_exporter": "python",
   "pygments_lexer": "ipython3",
   "version": "3.8.8"
  },
  "orig_nbformat": 4
 },
 "nbformat": 4,
 "nbformat_minor": 2
}
